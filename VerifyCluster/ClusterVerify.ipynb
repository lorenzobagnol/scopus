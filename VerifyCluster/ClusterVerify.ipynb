{
 "cells": [
  {
   "cell_type": "code",
   "execution_count": 8,
   "metadata": {},
   "outputs": [
    {
     "name": "stdout",
     "output_type": "stream",
     "text": [
      "collecting data from 2019\n",
      "collecting data from 2017\n",
      "collecting data from 2016\n",
      "collecting data from 2018\n",
      "collecting data from 2020\n",
      "data collected.\n"
     ]
    }
   ],
   "source": [
    "import pandas as pd\n",
    "import os\n",
    "\n",
    "\n",
    "\n",
    "df=pd.DataFrame(columns=[\"id\",\"date\",\"title\",\"abstract\",\"ipcr_classifications\", \"embedding\"])\n",
    "for year in os.listdir(\"csv\"):\n",
    "    if year!=\".gitignore\":\n",
    "        print(\"collecting data from \"+year)\n",
    "        for csv in os.listdir(\"csv/\"+year):\n",
    "            filename = os.fsdecode(csv)          \n",
    "            df_temp=pd.read_csv(\"csv/\"+year+\"/\"+filename)\n",
    "            df = pd.concat([df, df_temp], join=\"outer\", ignore_index=True)\n",
    "print(\"data collected.\")"
   ]
  },
  {
   "cell_type": "code",
   "execution_count": 9,
   "metadata": {},
   "outputs": [
    {
     "name": "stdout",
     "output_type": "stream",
     "text": [
      "Verifying embeddings with classes of section A\n",
      "We have a total of 1356678 documents\n",
      "Only 185889 of them are classified (with ipcr) with section A\n"
     ]
    }
   ],
   "source": [
    "import utils.class_cluster \n",
    "from utils.class_cluster import define_section\n",
    "\n",
    "print(\"Verifying embeddings with classes of section \"+utils.class_cluster.SECTION)\n",
    "print(\"We have a total of \"+str(len(df))+\" documents\")\n",
    "mask=[eval(c)[0][\"section\"]==\"A\" for c in df[\"ipcr_classifications\"]]\n",
    "df=df.loc[mask]\n",
    "print(\"Only \"+str(len(df))+\" of them are classified (with ipcr) with section \"+utils.class_cluster.SECTION)\n"
   ]
  },
  {
   "cell_type": "code",
   "execution_count": 20,
   "metadata": {},
   "outputs": [
    {
     "name": "stdout",
     "output_type": "stream",
     "text": [
      "Finding different classes within section A\n",
      "Classes for section A are: \n",
      "{'01': 22740, '42': 783, '61': 117411, '47': 14532, '21': 401, '23': 2674, '22': 452, '24': 2134, '41': 2048, '43': 1984, '63': 14471, '45': 2984, '44': 1068, '46': 754, '62': 1453}\n",
      "Calculating intra-cluster and inter-cluster distances\n"
     ]
    },
    {
     "name": "stderr",
     "output_type": "stream",
     "text": [
      "  0%|          | 5/185889 [00:22<229:05:27,  4.44s/it]\n"
     ]
    },
    {
     "ename": "KeyboardInterrupt",
     "evalue": "",
     "output_type": "error",
     "traceback": [
      "\u001b[0;31m---------------------------------------------------------------------------\u001b[0m",
      "\u001b[0;31mKeyboardInterrupt\u001b[0m                         Traceback (most recent call last)",
      "Cell \u001b[0;32mIn[20], line 6\u001b[0m\n\u001b[1;32m      3\u001b[0m importlib\u001b[39m.\u001b[39mreload(utils\u001b[39m.\u001b[39mclass_cluster)\n\u001b[1;32m      4\u001b[0m \u001b[39mfrom\u001b[39;00m \u001b[39mutils\u001b[39;00m\u001b[39m.\u001b[39;00m\u001b[39mclass_cluster\u001b[39;00m \u001b[39mimport\u001b[39;00m plot_embedding_different_classes\n\u001b[0;32m----> 6\u001b[0m plot_embedding_different_classes(df)\n",
      "File \u001b[0;32m~/progetti/Scopus/VerifyCluster/utils/class_cluster.py:64\u001b[0m, in \u001b[0;36mplot_embedding_different_classes\u001b[0;34m(df)\u001b[0m\n\u001b[1;32m     62\u001b[0m             dist_int[classes[i]]\u001b[39m.\u001b[39mappend(get_distance(embeddings[i], embeddings[j], {}))\n\u001b[1;32m     63\u001b[0m         \u001b[39melse\u001b[39;00m:\n\u001b[0;32m---> 64\u001b[0m             dist_ext[classes[i]]\u001b[39m.\u001b[39mappend(get_distance(embeddings[i], embeddings[j], {}))\n\u001b[1;32m     65\u001b[0m \u001b[39m#average every distance vector\u001b[39;00m\n\u001b[1;32m     66\u001b[0m \u001b[39mfor\u001b[39;00m c \u001b[39min\u001b[39;00m classes_list:\n",
      "File \u001b[0;32m~/progetti/Scopus/VerifyCluster/utils/class_cluster.py:102\u001b[0m, in \u001b[0;36mget_distance\u001b[0;34m(a, b, estimators_dict)\u001b[0m\n\u001b[1;32m    100\u001b[0m \u001b[39mdef\u001b[39;00m \u001b[39mget_distance\u001b[39m(a, b, estimators_dict):\n\u001b[1;32m    101\u001b[0m     \u001b[39mif\u001b[39;00m distance_function \u001b[39m==\u001b[39m \u001b[39m\"\u001b[39m\u001b[39meuclidean\u001b[39m\u001b[39m\"\u001b[39m: \u001b[39mreturn\u001b[39;00m get_euclidean_distance(a, b)\n\u001b[0;32m--> 102\u001b[0m     \u001b[39mif\u001b[39;00m distance_function \u001b[39m==\u001b[39m \u001b[39m\"\u001b[39m\u001b[39mcosine\u001b[39m\u001b[39m\"\u001b[39m: \u001b[39mreturn\u001b[39;00m get_cosine_distance(a, b)\n",
      "File \u001b[0;32m~/progetti/Scopus/VerifyCluster/utils/class_cluster.py:97\u001b[0m, in \u001b[0;36mget_cosine_distance\u001b[0;34m(a, b)\u001b[0m\n\u001b[1;32m     96\u001b[0m \u001b[39mdef\u001b[39;00m \u001b[39mget_cosine_distance\u001b[39m(a, b):\n\u001b[0;32m---> 97\u001b[0m     \u001b[39mreturn\u001b[39;00m scipy\u001b[39m.\u001b[39;49mspatial\u001b[39m.\u001b[39;49mdistance\u001b[39m.\u001b[39;49mcosine(a, b)\n",
      "File \u001b[0;32m~/miniconda3/envs/Scopus/lib/python3.10/site-packages/scipy/spatial/distance.py:670\u001b[0m, in \u001b[0;36mcosine\u001b[0;34m(u, v, w)\u001b[0m\n\u001b[1;32m    628\u001b[0m \u001b[39m\u001b[39m\u001b[39m\"\"\"\u001b[39;00m\n\u001b[1;32m    629\u001b[0m \u001b[39mCompute the Cosine distance between 1-D arrays.\u001b[39;00m\n\u001b[1;32m    630\u001b[0m \n\u001b[0;32m   (...)\u001b[0m\n\u001b[1;32m    665\u001b[0m \n\u001b[1;32m    666\u001b[0m \u001b[39m\"\"\"\u001b[39;00m\n\u001b[1;32m    667\u001b[0m \u001b[39m# cosine distance is also referred to as 'uncentered correlation',\u001b[39;00m\n\u001b[1;32m    668\u001b[0m \u001b[39m#   or 'reflective correlation'\u001b[39;00m\n\u001b[1;32m    669\u001b[0m \u001b[39m# clamp the result to 0-2\u001b[39;00m\n\u001b[0;32m--> 670\u001b[0m \u001b[39mreturn\u001b[39;00m \u001b[39mmax\u001b[39m(\u001b[39m0\u001b[39m, \u001b[39mmin\u001b[39m(correlation(u, v, w\u001b[39m=\u001b[39;49mw, centered\u001b[39m=\u001b[39;49m\u001b[39mFalse\u001b[39;49;00m), \u001b[39m2.0\u001b[39m))\n",
      "File \u001b[0;32m~/miniconda3/envs/Scopus/lib/python3.10/site-packages/scipy/spatial/distance.py:620\u001b[0m, in \u001b[0;36mcorrelation\u001b[0;34m(u, v, w, centered)\u001b[0m\n\u001b[1;32m    618\u001b[0m     v \u001b[39m=\u001b[39m v \u001b[39m-\u001b[39m vmu\n\u001b[1;32m    619\u001b[0m uv \u001b[39m=\u001b[39m np\u001b[39m.\u001b[39maverage(u \u001b[39m*\u001b[39m v, weights\u001b[39m=\u001b[39mw)\n\u001b[0;32m--> 620\u001b[0m uu \u001b[39m=\u001b[39m np\u001b[39m.\u001b[39;49maverage(np\u001b[39m.\u001b[39;49msquare(u), weights\u001b[39m=\u001b[39;49mw)\n\u001b[1;32m    621\u001b[0m vv \u001b[39m=\u001b[39m np\u001b[39m.\u001b[39maverage(np\u001b[39m.\u001b[39msquare(v), weights\u001b[39m=\u001b[39mw)\n\u001b[1;32m    622\u001b[0m dist \u001b[39m=\u001b[39m \u001b[39m1.0\u001b[39m \u001b[39m-\u001b[39m uv \u001b[39m/\u001b[39m np\u001b[39m.\u001b[39msqrt(uu \u001b[39m*\u001b[39m vv)\n",
      "File \u001b[0;32m<__array_function__ internals>:200\u001b[0m, in \u001b[0;36maverage\u001b[0;34m(*args, **kwargs)\u001b[0m\n",
      "File \u001b[0;32m~/miniconda3/envs/Scopus/lib/python3.10/site-packages/numpy/lib/function_base.py:554\u001b[0m, in \u001b[0;36maverage\u001b[0;34m(a, axis, weights, returned, keepdims)\u001b[0m\n\u001b[1;32m    548\u001b[0m         \u001b[39mraise\u001b[39;00m \u001b[39mZeroDivisionError\u001b[39;00m(\n\u001b[1;32m    549\u001b[0m             \u001b[39m\"\u001b[39m\u001b[39mWeights sum to zero, can\u001b[39m\u001b[39m'\u001b[39m\u001b[39mt be normalized\u001b[39m\u001b[39m\"\u001b[39m)\n\u001b[1;32m    551\u001b[0m     avg \u001b[39m=\u001b[39m avg_as_array \u001b[39m=\u001b[39m np\u001b[39m.\u001b[39mmultiply(a, wgt,\n\u001b[1;32m    552\u001b[0m                       dtype\u001b[39m=\u001b[39mresult_dtype)\u001b[39m.\u001b[39msum(axis, \u001b[39m*\u001b[39m\u001b[39m*\u001b[39mkeepdims_kw) \u001b[39m/\u001b[39m scl\n\u001b[0;32m--> 554\u001b[0m \u001b[39mif\u001b[39;00m returned:\n\u001b[1;32m    555\u001b[0m     \u001b[39mif\u001b[39;00m scl\u001b[39m.\u001b[39mshape \u001b[39m!=\u001b[39m avg_as_array\u001b[39m.\u001b[39mshape:\n\u001b[1;32m    556\u001b[0m         scl \u001b[39m=\u001b[39m np\u001b[39m.\u001b[39mbroadcast_to(scl, avg_as_array\u001b[39m.\u001b[39mshape)\u001b[39m.\u001b[39mcopy()\n",
      "\u001b[0;31mKeyboardInterrupt\u001b[0m: "
     ]
    }
   ],
   "source": [
    "import importlib\n",
    "import utils.class_cluster\n",
    "importlib.reload(utils.class_cluster)\n",
    "from utils.class_cluster import plot_embedding_different_classes\n",
    "\n",
    "plot_embedding_different_classes(df)"
   ]
  },
  {
   "cell_type": "code",
   "execution_count": 13,
   "metadata": {},
   "outputs": [
    {
     "name": "stdout",
     "output_type": "stream",
     "text": [
      "Finding different classes within section \n"
     ]
    },
    {
     "data": {
      "text/plain": [
       "{'01': 22740,\n",
       " '42': 783,\n",
       " '61': 117411,\n",
       " '47': 14532,\n",
       " '21': 401,\n",
       " '23': 2674,\n",
       " '22': 452,\n",
       " '24': 2134,\n",
       " '41': 2048,\n",
       " '43': 1984,\n",
       " '63': 14471,\n",
       " '45': 2984,\n",
       " '44': 1068,\n",
       " '46': 754,\n",
       " '62': 1453}"
      ]
     },
     "execution_count": 13,
     "metadata": {},
     "output_type": "execute_result"
    }
   ],
   "source": [
    "print(\"Finding different classes within section \")\n",
    "classes={}\n",
    "for c in df[\"ipcr_classifications\"]:\n",
    "    if eval(c)[0][\"class\"] in classes.keys():\n",
    "        classes[eval(c)[0][\"class\"]]+=1\n",
    "    else:\n",
    "        classes[eval(c)[0][\"class\"]]=1\n",
    "classes"
   ]
  }
 ],
 "metadata": {
  "kernelspec": {
   "display_name": "Scopus",
   "language": "python",
   "name": "python3"
  },
  "language_info": {
   "codemirror_mode": {
    "name": "ipython",
    "version": 3
   },
   "file_extension": ".py",
   "mimetype": "text/x-python",
   "name": "python",
   "nbconvert_exporter": "python",
   "pygments_lexer": "ipython3",
   "version": "3.10.10"
  },
  "orig_nbformat": 4
 },
 "nbformat": 4,
 "nbformat_minor": 2
}
