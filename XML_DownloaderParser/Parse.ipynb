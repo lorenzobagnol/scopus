{
 "cells": [
  {
   "cell_type": "code",
   "execution_count": null,
   "metadata": {},
   "outputs": [],
   "source": [
    "import xml.etree.ElementTree as ET\n",
    "from bs4 import BeautifulSoup\n",
    "#import pandas as pd\n",
    "\n",
    "\n",
    "with open('xmls/ipg050104.xml') as input:\n",
    "    n_line=0\n",
    "    temp_file = open('xmls/temp/temp.xml','w')\n",
    "    while True:\n",
    "        line = input.readline()\n",
    "        if not line: \n",
    "            break\n",
    "        if line.startswith('<?xml') and n_line!=0:\n",
    "            temp_file.close()\n",
    "            tree = ET.parse('xmls/temp/temp.xml')\n",
    "            us_patent_grant = tree.getroot()\n",
    "            for publication_reference in us_patent_grant.iter(\"publication-reference\"):\n",
    "                print(\"patent number: \"+publication_reference.find(\"document-id\").find(\"doc-number\").text)\n",
    "            for us_bibliographic_data_grant in us_patent_grant.iter(\"us-bibliographic-data-grant\"):\n",
    "                title=us_bibliographic_data_grant.find(\"invention-title\").text\n",
    "                if title: print(\"title: \"+title)\n",
    "            # inventors\n",
    "           # for claims in us_patent_grant.iter(\"claims\"):\n",
    "            #    for claim in claims.iter((\"claim\")):\n",
    "            #        for claim_text in claim.iter(\"claim-text\"):\n",
    "            #            print(\"claims: \"+claim_text.text)\n",
    "            for abstract in us_patent_grant.iter(\"abstract\"):\n",
    "                print(\"abstract: \"+abstract.find(\"p\").text)\n",
    "            temp_file = open('xmls/temp/temp.xml','w')\n",
    "        temp_file.write(line)   \n",
    "        n_line+=1"
   ]
  },
  {
   "cell_type": "code",
   "execution_count": 39,
   "metadata": {},
   "outputs": [
    {
     "name": "stdout",
     "output_type": "stream",
     "text": [
      "downloading patents from 2023\n"
     ]
    },
    {
     "name": "stderr",
     "output_type": "stream",
     "text": [
      "0it [00:00, ?it/s]\n",
      "100%|██████████| 21/21 [00:00<?, ?it/s]\n"
     ]
    },
    {
     "name": "stdout",
     "output_type": "stream",
     "text": [
      "https://bulkdata.uspto.gov/data/patent/grant/redbook/fulltext/2023/ipg230103.zip\n",
      "https://bulkdata.uspto.gov/data/patent/grant/redbook/fulltext/2023/ipg230110.zip\n",
      "https://bulkdata.uspto.gov/data/patent/grant/redbook/fulltext/2023/ipg230117.zip\n",
      "https://bulkdata.uspto.gov/data/patent/grant/redbook/fulltext/2023/ipg230124.zip\n",
      "https://bulkdata.uspto.gov/data/patent/grant/redbook/fulltext/2023/ipg230124_r1.zip\n",
      "https://bulkdata.uspto.gov/data/patent/grant/redbook/fulltext/2023/ipg230131.zip\n",
      "https://bulkdata.uspto.gov/data/patent/grant/redbook/fulltext/2023/ipg230207.zip\n",
      "https://bulkdata.uspto.gov/data/patent/grant/redbook/fulltext/2023/ipg230214.zip\n",
      "https://bulkdata.uspto.gov/data/patent/grant/redbook/fulltext/2023/ipg230221.zip\n",
      "https://bulkdata.uspto.gov/data/patent/grant/redbook/fulltext/2023/ipg230228.zip\n",
      "https://bulkdata.uspto.gov/data/patent/grant/redbook/fulltext/2023/ipg230307.zip\n",
      "https://bulkdata.uspto.gov/data/patent/grant/redbook/fulltext/2023/ipg230314.zip\n",
      "https://bulkdata.uspto.gov/data/patent/grant/redbook/fulltext/2023/ipg230321.zip\n",
      "https://bulkdata.uspto.gov/data/patent/grant/redbook/fulltext/2023/ipg230328.zip\n",
      "https://bulkdata.uspto.gov/data/patent/grant/redbook/fulltext/2023/ipg230404.zip\n",
      "https://bulkdata.uspto.gov/data/patent/grant/redbook/fulltext/2023/ipg230404_r1.zip\n",
      "https://bulkdata.uspto.gov/data/patent/grant/redbook/fulltext/2023/ipg230411.zip\n",
      "https://bulkdata.uspto.gov/data/patent/grant/redbook/fulltext/2023/ipg230418.zip\n",
      "https://bulkdata.uspto.gov/data/patent/grant/redbook/fulltext/2023/ipg230425.zip\n",
      "downloading patents from 2022\n"
     ]
    },
    {
     "name": "stderr",
     "output_type": "stream",
     "text": [
      "0it [00:00, ?it/s]\n",
      "100%|██████████| 55/55 [00:00<?, ?it/s]\n"
     ]
    },
    {
     "name": "stdout",
     "output_type": "stream",
     "text": [
      "https://bulkdata.uspto.gov/data/patent/grant/redbook/fulltext/2022/ipg220104.zip\n",
      "https://bulkdata.uspto.gov/data/patent/grant/redbook/fulltext/2022/ipg220111.zip\n",
      "https://bulkdata.uspto.gov/data/patent/grant/redbook/fulltext/2022/ipg220118.zip\n",
      "https://bulkdata.uspto.gov/data/patent/grant/redbook/fulltext/2022/ipg220125.zip\n",
      "https://bulkdata.uspto.gov/data/patent/grant/redbook/fulltext/2022/ipg220201.zip\n",
      "https://bulkdata.uspto.gov/data/patent/grant/redbook/fulltext/2022/ipg220208.zip\n",
      "https://bulkdata.uspto.gov/data/patent/grant/redbook/fulltext/2022/ipg220215.zip\n",
      "https://bulkdata.uspto.gov/data/patent/grant/redbook/fulltext/2022/ipg220222.zip\n",
      "https://bulkdata.uspto.gov/data/patent/grant/redbook/fulltext/2022/ipg220301.zip\n",
      "https://bulkdata.uspto.gov/data/patent/grant/redbook/fulltext/2022/ipg220308.zip\n",
      "https://bulkdata.uspto.gov/data/patent/grant/redbook/fulltext/2022/ipg220315.zip\n",
      "https://bulkdata.uspto.gov/data/patent/grant/redbook/fulltext/2022/ipg220322.zip\n",
      "https://bulkdata.uspto.gov/data/patent/grant/redbook/fulltext/2022/ipg220329.zip\n",
      "https://bulkdata.uspto.gov/data/patent/grant/redbook/fulltext/2022/ipg220405.zip\n",
      "https://bulkdata.uspto.gov/data/patent/grant/redbook/fulltext/2022/ipg220412.zip\n",
      "https://bulkdata.uspto.gov/data/patent/grant/redbook/fulltext/2022/ipg220419.zip\n",
      "https://bulkdata.uspto.gov/data/patent/grant/redbook/fulltext/2022/ipg220426.zip\n",
      "https://bulkdata.uspto.gov/data/patent/grant/redbook/fulltext/2022/ipg220503.zip\n",
      "https://bulkdata.uspto.gov/data/patent/grant/redbook/fulltext/2022/ipg220510.zip\n",
      "https://bulkdata.uspto.gov/data/patent/grant/redbook/fulltext/2022/ipg220517.zip\n",
      "https://bulkdata.uspto.gov/data/patent/grant/redbook/fulltext/2022/ipg220524.zip\n",
      "https://bulkdata.uspto.gov/data/patent/grant/redbook/fulltext/2022/ipg220531.zip\n",
      "https://bulkdata.uspto.gov/data/patent/grant/redbook/fulltext/2022/ipg220607.zip\n",
      "https://bulkdata.uspto.gov/data/patent/grant/redbook/fulltext/2022/ipg220614.zip\n",
      "https://bulkdata.uspto.gov/data/patent/grant/redbook/fulltext/2022/ipg220621.zip\n",
      "https://bulkdata.uspto.gov/data/patent/grant/redbook/fulltext/2022/ipg220628.zip\n",
      "https://bulkdata.uspto.gov/data/patent/grant/redbook/fulltext/2022/ipg220705.zip\n",
      "https://bulkdata.uspto.gov/data/patent/grant/redbook/fulltext/2022/ipg220712.zip\n",
      "https://bulkdata.uspto.gov/data/patent/grant/redbook/fulltext/2022/ipg220719.zip\n",
      "https://bulkdata.uspto.gov/data/patent/grant/redbook/fulltext/2022/ipg220726.zip\n",
      "https://bulkdata.uspto.gov/data/patent/grant/redbook/fulltext/2022/ipg220802.zip\n",
      "https://bulkdata.uspto.gov/data/patent/grant/redbook/fulltext/2022/ipg220809.zip\n",
      "https://bulkdata.uspto.gov/data/patent/grant/redbook/fulltext/2022/ipg220816.zip\n",
      "https://bulkdata.uspto.gov/data/patent/grant/redbook/fulltext/2022/ipg220823.zip\n",
      "https://bulkdata.uspto.gov/data/patent/grant/redbook/fulltext/2022/ipg220830.zip\n",
      "https://bulkdata.uspto.gov/data/patent/grant/redbook/fulltext/2022/ipg220906.zip\n",
      "https://bulkdata.uspto.gov/data/patent/grant/redbook/fulltext/2022/ipg220913.zip\n",
      "https://bulkdata.uspto.gov/data/patent/grant/redbook/fulltext/2022/ipg220920.zip\n",
      "https://bulkdata.uspto.gov/data/patent/grant/redbook/fulltext/2022/ipg220927.zip\n",
      "https://bulkdata.uspto.gov/data/patent/grant/redbook/fulltext/2022/ipg221004.zip\n",
      "https://bulkdata.uspto.gov/data/patent/grant/redbook/fulltext/2022/ipg221011.zip\n",
      "https://bulkdata.uspto.gov/data/patent/grant/redbook/fulltext/2022/ipg221018.zip\n",
      "https://bulkdata.uspto.gov/data/patent/grant/redbook/fulltext/2022/ipg221025.zip\n",
      "https://bulkdata.uspto.gov/data/patent/grant/redbook/fulltext/2022/ipg221101.zip\n",
      "https://bulkdata.uspto.gov/data/patent/grant/redbook/fulltext/2022/ipg221108.zip\n",
      "https://bulkdata.uspto.gov/data/patent/grant/redbook/fulltext/2022/ipg221115.zip\n",
      "https://bulkdata.uspto.gov/data/patent/grant/redbook/fulltext/2022/ipg221122.zip\n",
      "https://bulkdata.uspto.gov/data/patent/grant/redbook/fulltext/2022/ipg221129.zip\n",
      "https://bulkdata.uspto.gov/data/patent/grant/redbook/fulltext/2022/ipg221206.zip\n",
      "https://bulkdata.uspto.gov/data/patent/grant/redbook/fulltext/2022/ipg221213.zip\n",
      "https://bulkdata.uspto.gov/data/patent/grant/redbook/fulltext/2022/ipg221220.zip\n",
      "https://bulkdata.uspto.gov/data/patent/grant/redbook/fulltext/2022/ipg221227.zip\n",
      "downloading patents from 2021\n"
     ]
    },
    {
     "ename": "KeyboardInterrupt",
     "evalue": "",
     "output_type": "error",
     "traceback": [
      "\u001b[1;31m---------------------------------------------------------------------------\u001b[0m",
      "\u001b[1;31mKeyboardInterrupt\u001b[0m                         Traceback (most recent call last)",
      "Cell \u001b[1;32mIn[39], line 11\u001b[0m\n\u001b[0;32m      9\u001b[0m \u001b[39mif\u001b[39;00m \u001b[39mstr\u001b[39m(link\u001b[39m.\u001b[39mget_text())\u001b[39m.\u001b[39mstartswith(\u001b[39m\"\u001b[39m\u001b[39mPatent Grant Full Text Data\u001b[39m\u001b[39m\"\u001b[39m):\n\u001b[0;32m     10\u001b[0m     \u001b[39mprint\u001b[39m(\u001b[39m\"\u001b[39m\u001b[39mdownloading patents from \u001b[39m\u001b[39m\"\u001b[39m\u001b[39m+\u001b[39m\u001b[39mstr\u001b[39m(link\u001b[39m.\u001b[39mget(\u001b[39m'\u001b[39m\u001b[39mhref\u001b[39m\u001b[39m'\u001b[39m))[\u001b[39m-\u001b[39m\u001b[39m4\u001b[39m:])\n\u001b[1;32m---> 11\u001b[0m     PatentGrantFullTextData\u001b[39m=\u001b[39mrequests\u001b[39m.\u001b[39;49mget(link\u001b[39m.\u001b[39;49mget(\u001b[39m'\u001b[39;49m\u001b[39mhref\u001b[39;49m\u001b[39m'\u001b[39;49m))\n\u001b[0;32m     12\u001b[0m     PatentGrantFullTextData_soup \u001b[39m=\u001b[39m BeautifulSoup(PatentGrantFullTextData\u001b[39m.\u001b[39mtext, \u001b[39m'\u001b[39m\u001b[39mhtml.parser\u001b[39m\u001b[39m'\u001b[39m)\n\u001b[0;32m     13\u001b[0m     \u001b[39m#print(PatentGrantFullTextData_soup.contents)\u001b[39;00m\n",
      "File \u001b[1;32mc:\\Users\\loren\\Documents\\Lorenzo\\UniPi\\scopus\\.venv\\Lib\\site-packages\\requests\\api.py:73\u001b[0m, in \u001b[0;36mget\u001b[1;34m(url, params, **kwargs)\u001b[0m\n\u001b[0;32m     62\u001b[0m \u001b[39mdef\u001b[39;00m \u001b[39mget\u001b[39m(url, params\u001b[39m=\u001b[39m\u001b[39mNone\u001b[39;00m, \u001b[39m*\u001b[39m\u001b[39m*\u001b[39mkwargs):\n\u001b[0;32m     63\u001b[0m \u001b[39m    \u001b[39m\u001b[39mr\u001b[39m\u001b[39m\"\"\"Sends a GET request.\u001b[39;00m\n\u001b[0;32m     64\u001b[0m \n\u001b[0;32m     65\u001b[0m \u001b[39m    :param url: URL for the new :class:`Request` object.\u001b[39;00m\n\u001b[1;32m   (...)\u001b[0m\n\u001b[0;32m     70\u001b[0m \u001b[39m    :rtype: requests.Response\u001b[39;00m\n\u001b[0;32m     71\u001b[0m \u001b[39m    \"\"\"\u001b[39;00m\n\u001b[1;32m---> 73\u001b[0m     \u001b[39mreturn\u001b[39;00m request(\u001b[39m\"\u001b[39;49m\u001b[39mget\u001b[39;49m\u001b[39m\"\u001b[39;49m, url, params\u001b[39m=\u001b[39;49mparams, \u001b[39m*\u001b[39;49m\u001b[39m*\u001b[39;49mkwargs)\n",
      "File \u001b[1;32mc:\\Users\\loren\\Documents\\Lorenzo\\UniPi\\scopus\\.venv\\Lib\\site-packages\\requests\\api.py:59\u001b[0m, in \u001b[0;36mrequest\u001b[1;34m(method, url, **kwargs)\u001b[0m\n\u001b[0;32m     55\u001b[0m \u001b[39m# By using the 'with' statement we are sure the session is closed, thus we\u001b[39;00m\n\u001b[0;32m     56\u001b[0m \u001b[39m# avoid leaving sockets open which can trigger a ResourceWarning in some\u001b[39;00m\n\u001b[0;32m     57\u001b[0m \u001b[39m# cases, and look like a memory leak in others.\u001b[39;00m\n\u001b[0;32m     58\u001b[0m \u001b[39mwith\u001b[39;00m sessions\u001b[39m.\u001b[39mSession() \u001b[39mas\u001b[39;00m session:\n\u001b[1;32m---> 59\u001b[0m     \u001b[39mreturn\u001b[39;00m session\u001b[39m.\u001b[39;49mrequest(method\u001b[39m=\u001b[39;49mmethod, url\u001b[39m=\u001b[39;49murl, \u001b[39m*\u001b[39;49m\u001b[39m*\u001b[39;49mkwargs)\n",
      "File \u001b[1;32mc:\\Users\\loren\\Documents\\Lorenzo\\UniPi\\scopus\\.venv\\Lib\\site-packages\\requests\\sessions.py:587\u001b[0m, in \u001b[0;36mSession.request\u001b[1;34m(self, method, url, params, data, headers, cookies, files, auth, timeout, allow_redirects, proxies, hooks, stream, verify, cert, json)\u001b[0m\n\u001b[0;32m    582\u001b[0m send_kwargs \u001b[39m=\u001b[39m {\n\u001b[0;32m    583\u001b[0m     \u001b[39m\"\u001b[39m\u001b[39mtimeout\u001b[39m\u001b[39m\"\u001b[39m: timeout,\n\u001b[0;32m    584\u001b[0m     \u001b[39m\"\u001b[39m\u001b[39mallow_redirects\u001b[39m\u001b[39m\"\u001b[39m: allow_redirects,\n\u001b[0;32m    585\u001b[0m }\n\u001b[0;32m    586\u001b[0m send_kwargs\u001b[39m.\u001b[39mupdate(settings)\n\u001b[1;32m--> 587\u001b[0m resp \u001b[39m=\u001b[39m \u001b[39mself\u001b[39;49m\u001b[39m.\u001b[39;49msend(prep, \u001b[39m*\u001b[39;49m\u001b[39m*\u001b[39;49msend_kwargs)\n\u001b[0;32m    589\u001b[0m \u001b[39mreturn\u001b[39;00m resp\n",
      "File \u001b[1;32mc:\\Users\\loren\\Documents\\Lorenzo\\UniPi\\scopus\\.venv\\Lib\\site-packages\\requests\\sessions.py:723\u001b[0m, in \u001b[0;36mSession.send\u001b[1;34m(self, request, **kwargs)\u001b[0m\n\u001b[0;32m    720\u001b[0m \u001b[39mif\u001b[39;00m allow_redirects:\n\u001b[0;32m    721\u001b[0m     \u001b[39m# Redirect resolving generator.\u001b[39;00m\n\u001b[0;32m    722\u001b[0m     gen \u001b[39m=\u001b[39m \u001b[39mself\u001b[39m\u001b[39m.\u001b[39mresolve_redirects(r, request, \u001b[39m*\u001b[39m\u001b[39m*\u001b[39mkwargs)\n\u001b[1;32m--> 723\u001b[0m     history \u001b[39m=\u001b[39m [resp \u001b[39mfor\u001b[39;49;00m resp \u001b[39min\u001b[39;49;00m gen]\n\u001b[0;32m    724\u001b[0m \u001b[39melse\u001b[39;00m:\n\u001b[0;32m    725\u001b[0m     history \u001b[39m=\u001b[39m []\n",
      "File \u001b[1;32mc:\\Users\\loren\\Documents\\Lorenzo\\UniPi\\scopus\\.venv\\Lib\\site-packages\\requests\\sessions.py:723\u001b[0m, in \u001b[0;36m<listcomp>\u001b[1;34m(.0)\u001b[0m\n\u001b[0;32m    720\u001b[0m \u001b[39mif\u001b[39;00m allow_redirects:\n\u001b[0;32m    721\u001b[0m     \u001b[39m# Redirect resolving generator.\u001b[39;00m\n\u001b[0;32m    722\u001b[0m     gen \u001b[39m=\u001b[39m \u001b[39mself\u001b[39m\u001b[39m.\u001b[39mresolve_redirects(r, request, \u001b[39m*\u001b[39m\u001b[39m*\u001b[39mkwargs)\n\u001b[1;32m--> 723\u001b[0m     history \u001b[39m=\u001b[39m [resp \u001b[39mfor\u001b[39;00m resp \u001b[39min\u001b[39;00m gen]\n\u001b[0;32m    724\u001b[0m \u001b[39melse\u001b[39;00m:\n\u001b[0;32m    725\u001b[0m     history \u001b[39m=\u001b[39m []\n",
      "File \u001b[1;32mc:\\Users\\loren\\Documents\\Lorenzo\\UniPi\\scopus\\.venv\\Lib\\site-packages\\requests\\sessions.py:266\u001b[0m, in \u001b[0;36mSessionRedirectMixin.resolve_redirects\u001b[1;34m(self, resp, req, stream, timeout, verify, cert, proxies, yield_requests, **adapter_kwargs)\u001b[0m\n\u001b[0;32m    263\u001b[0m     \u001b[39myield\u001b[39;00m req\n\u001b[0;32m    264\u001b[0m \u001b[39melse\u001b[39;00m:\n\u001b[1;32m--> 266\u001b[0m     resp \u001b[39m=\u001b[39m \u001b[39mself\u001b[39;49m\u001b[39m.\u001b[39;49msend(\n\u001b[0;32m    267\u001b[0m         req,\n\u001b[0;32m    268\u001b[0m         stream\u001b[39m=\u001b[39;49mstream,\n\u001b[0;32m    269\u001b[0m         timeout\u001b[39m=\u001b[39;49mtimeout,\n\u001b[0;32m    270\u001b[0m         verify\u001b[39m=\u001b[39;49mverify,\n\u001b[0;32m    271\u001b[0m         cert\u001b[39m=\u001b[39;49mcert,\n\u001b[0;32m    272\u001b[0m         proxies\u001b[39m=\u001b[39;49mproxies,\n\u001b[0;32m    273\u001b[0m         allow_redirects\u001b[39m=\u001b[39;49m\u001b[39mFalse\u001b[39;49;00m,\n\u001b[0;32m    274\u001b[0m         \u001b[39m*\u001b[39;49m\u001b[39m*\u001b[39;49madapter_kwargs,\n\u001b[0;32m    275\u001b[0m     )\n\u001b[0;32m    277\u001b[0m     extract_cookies_to_jar(\u001b[39mself\u001b[39m\u001b[39m.\u001b[39mcookies, prepared_request, resp\u001b[39m.\u001b[39mraw)\n\u001b[0;32m    279\u001b[0m     \u001b[39m# extract redirect url, if any, for the next loop\u001b[39;00m\n",
      "File \u001b[1;32mc:\\Users\\loren\\Documents\\Lorenzo\\UniPi\\scopus\\.venv\\Lib\\site-packages\\requests\\sessions.py:745\u001b[0m, in \u001b[0;36mSession.send\u001b[1;34m(self, request, **kwargs)\u001b[0m\n\u001b[0;32m    742\u001b[0m         \u001b[39mpass\u001b[39;00m\n\u001b[0;32m    744\u001b[0m \u001b[39mif\u001b[39;00m \u001b[39mnot\u001b[39;00m stream:\n\u001b[1;32m--> 745\u001b[0m     r\u001b[39m.\u001b[39;49mcontent\n\u001b[0;32m    747\u001b[0m \u001b[39mreturn\u001b[39;00m r\n",
      "File \u001b[1;32mc:\\Users\\loren\\Documents\\Lorenzo\\UniPi\\scopus\\.venv\\Lib\\site-packages\\requests\\models.py:899\u001b[0m, in \u001b[0;36mResponse.content\u001b[1;34m(self)\u001b[0m\n\u001b[0;32m    897\u001b[0m         \u001b[39mself\u001b[39m\u001b[39m.\u001b[39m_content \u001b[39m=\u001b[39m \u001b[39mNone\u001b[39;00m\n\u001b[0;32m    898\u001b[0m     \u001b[39melse\u001b[39;00m:\n\u001b[1;32m--> 899\u001b[0m         \u001b[39mself\u001b[39m\u001b[39m.\u001b[39m_content \u001b[39m=\u001b[39m \u001b[39mb\u001b[39m\u001b[39m\"\u001b[39m\u001b[39m\"\u001b[39m\u001b[39m.\u001b[39mjoin(\u001b[39mself\u001b[39m\u001b[39m.\u001b[39miter_content(CONTENT_CHUNK_SIZE)) \u001b[39mor\u001b[39;00m \u001b[39mb\u001b[39m\u001b[39m\"\u001b[39m\u001b[39m\"\u001b[39m\n\u001b[0;32m    901\u001b[0m \u001b[39mself\u001b[39m\u001b[39m.\u001b[39m_content_consumed \u001b[39m=\u001b[39m \u001b[39mTrue\u001b[39;00m\n\u001b[0;32m    902\u001b[0m \u001b[39m# don't need to release the connection; that's been handled by urllib3\u001b[39;00m\n\u001b[0;32m    903\u001b[0m \u001b[39m# since we exhausted the data.\u001b[39;00m\n",
      "File \u001b[1;32mc:\\Users\\loren\\Documents\\Lorenzo\\UniPi\\scopus\\.venv\\Lib\\site-packages\\requests\\models.py:816\u001b[0m, in \u001b[0;36mResponse.iter_content.<locals>.generate\u001b[1;34m()\u001b[0m\n\u001b[0;32m    814\u001b[0m \u001b[39mif\u001b[39;00m \u001b[39mhasattr\u001b[39m(\u001b[39mself\u001b[39m\u001b[39m.\u001b[39mraw, \u001b[39m\"\u001b[39m\u001b[39mstream\u001b[39m\u001b[39m\"\u001b[39m):\n\u001b[0;32m    815\u001b[0m     \u001b[39mtry\u001b[39;00m:\n\u001b[1;32m--> 816\u001b[0m         \u001b[39myield from\u001b[39;00m \u001b[39mself\u001b[39m\u001b[39m.\u001b[39mraw\u001b[39m.\u001b[39mstream(chunk_size, decode_content\u001b[39m=\u001b[39m\u001b[39mTrue\u001b[39;00m)\n\u001b[0;32m    817\u001b[0m     \u001b[39mexcept\u001b[39;00m ProtocolError \u001b[39mas\u001b[39;00m e:\n\u001b[0;32m    818\u001b[0m         \u001b[39mraise\u001b[39;00m ChunkedEncodingError(e)\n",
      "File \u001b[1;32mc:\\Users\\loren\\Documents\\Lorenzo\\UniPi\\scopus\\.venv\\Lib\\site-packages\\urllib3\\response.py:624\u001b[0m, in \u001b[0;36mHTTPResponse.stream\u001b[1;34m(self, amt, decode_content)\u001b[0m\n\u001b[0;32m    608\u001b[0m \u001b[39m\u001b[39m\u001b[39m\"\"\"\u001b[39;00m\n\u001b[0;32m    609\u001b[0m \u001b[39mA generator wrapper for the read() method. A call will block until\u001b[39;00m\n\u001b[0;32m    610\u001b[0m \u001b[39m``amt`` bytes have been read from the connection or until the\u001b[39;00m\n\u001b[1;32m   (...)\u001b[0m\n\u001b[0;32m    621\u001b[0m \u001b[39m    'content-encoding' header.\u001b[39;00m\n\u001b[0;32m    622\u001b[0m \u001b[39m\"\"\"\u001b[39;00m\n\u001b[0;32m    623\u001b[0m \u001b[39mif\u001b[39;00m \u001b[39mself\u001b[39m\u001b[39m.\u001b[39mchunked \u001b[39mand\u001b[39;00m \u001b[39mself\u001b[39m\u001b[39m.\u001b[39msupports_chunked_reads():\n\u001b[1;32m--> 624\u001b[0m     \u001b[39mfor\u001b[39;00m line \u001b[39min\u001b[39;00m \u001b[39mself\u001b[39m\u001b[39m.\u001b[39mread_chunked(amt, decode_content\u001b[39m=\u001b[39mdecode_content):\n\u001b[0;32m    625\u001b[0m         \u001b[39myield\u001b[39;00m line\n\u001b[0;32m    626\u001b[0m \u001b[39melse\u001b[39;00m:\n",
      "File \u001b[1;32mc:\\Users\\loren\\Documents\\Lorenzo\\UniPi\\scopus\\.venv\\Lib\\site-packages\\urllib3\\response.py:828\u001b[0m, in \u001b[0;36mHTTPResponse.read_chunked\u001b[1;34m(self, amt, decode_content)\u001b[0m\n\u001b[0;32m    825\u001b[0m     \u001b[39mreturn\u001b[39;00m\n\u001b[0;32m    827\u001b[0m \u001b[39mwhile\u001b[39;00m \u001b[39mTrue\u001b[39;00m:\n\u001b[1;32m--> 828\u001b[0m     \u001b[39mself\u001b[39;49m\u001b[39m.\u001b[39;49m_update_chunk_length()\n\u001b[0;32m    829\u001b[0m     \u001b[39mif\u001b[39;00m \u001b[39mself\u001b[39m\u001b[39m.\u001b[39mchunk_left \u001b[39m==\u001b[39m \u001b[39m0\u001b[39m:\n\u001b[0;32m    830\u001b[0m         \u001b[39mbreak\u001b[39;00m\n",
      "File \u001b[1;32mc:\\Users\\loren\\Documents\\Lorenzo\\UniPi\\scopus\\.venv\\Lib\\site-packages\\urllib3\\response.py:758\u001b[0m, in \u001b[0;36mHTTPResponse._update_chunk_length\u001b[1;34m(self)\u001b[0m\n\u001b[0;32m    756\u001b[0m \u001b[39mif\u001b[39;00m \u001b[39mself\u001b[39m\u001b[39m.\u001b[39mchunk_left \u001b[39mis\u001b[39;00m \u001b[39mnot\u001b[39;00m \u001b[39mNone\u001b[39;00m:\n\u001b[0;32m    757\u001b[0m     \u001b[39mreturn\u001b[39;00m\n\u001b[1;32m--> 758\u001b[0m line \u001b[39m=\u001b[39m \u001b[39mself\u001b[39m\u001b[39m.\u001b[39m_fp\u001b[39m.\u001b[39mfp\u001b[39m.\u001b[39mreadline()\n\u001b[0;32m    759\u001b[0m line \u001b[39m=\u001b[39m line\u001b[39m.\u001b[39msplit(\u001b[39mb\u001b[39m\u001b[39m\"\u001b[39m\u001b[39m;\u001b[39m\u001b[39m\"\u001b[39m, \u001b[39m1\u001b[39m)[\u001b[39m0\u001b[39m]\n\u001b[0;32m    760\u001b[0m \u001b[39mtry\u001b[39;00m:\n",
      "File \u001b[1;32m~\\AppData\\Local\\Programs\\Python\\Python311\\Lib\\socket.py:706\u001b[0m, in \u001b[0;36mSocketIO.readinto\u001b[1;34m(self, b)\u001b[0m\n\u001b[0;32m    704\u001b[0m \u001b[39mwhile\u001b[39;00m \u001b[39mTrue\u001b[39;00m:\n\u001b[0;32m    705\u001b[0m     \u001b[39mtry\u001b[39;00m:\n\u001b[1;32m--> 706\u001b[0m         \u001b[39mreturn\u001b[39;00m \u001b[39mself\u001b[39;49m\u001b[39m.\u001b[39;49m_sock\u001b[39m.\u001b[39;49mrecv_into(b)\n\u001b[0;32m    707\u001b[0m     \u001b[39mexcept\u001b[39;00m timeout:\n\u001b[0;32m    708\u001b[0m         \u001b[39mself\u001b[39m\u001b[39m.\u001b[39m_timeout_occurred \u001b[39m=\u001b[39m \u001b[39mTrue\u001b[39;00m\n",
      "File \u001b[1;32m~\\AppData\\Local\\Programs\\Python\\Python311\\Lib\\ssl.py:1278\u001b[0m, in \u001b[0;36mSSLSocket.recv_into\u001b[1;34m(self, buffer, nbytes, flags)\u001b[0m\n\u001b[0;32m   1274\u001b[0m     \u001b[39mif\u001b[39;00m flags \u001b[39m!=\u001b[39m \u001b[39m0\u001b[39m:\n\u001b[0;32m   1275\u001b[0m         \u001b[39mraise\u001b[39;00m \u001b[39mValueError\u001b[39;00m(\n\u001b[0;32m   1276\u001b[0m           \u001b[39m\"\u001b[39m\u001b[39mnon-zero flags not allowed in calls to recv_into() on \u001b[39m\u001b[39m%s\u001b[39;00m\u001b[39m\"\u001b[39m \u001b[39m%\u001b[39m\n\u001b[0;32m   1277\u001b[0m           \u001b[39mself\u001b[39m\u001b[39m.\u001b[39m\u001b[39m__class__\u001b[39m)\n\u001b[1;32m-> 1278\u001b[0m     \u001b[39mreturn\u001b[39;00m \u001b[39mself\u001b[39;49m\u001b[39m.\u001b[39;49mread(nbytes, buffer)\n\u001b[0;32m   1279\u001b[0m \u001b[39melse\u001b[39;00m:\n\u001b[0;32m   1280\u001b[0m     \u001b[39mreturn\u001b[39;00m \u001b[39msuper\u001b[39m()\u001b[39m.\u001b[39mrecv_into(buffer, nbytes, flags)\n",
      "File \u001b[1;32m~\\AppData\\Local\\Programs\\Python\\Python311\\Lib\\ssl.py:1134\u001b[0m, in \u001b[0;36mSSLSocket.read\u001b[1;34m(self, len, buffer)\u001b[0m\n\u001b[0;32m   1132\u001b[0m \u001b[39mtry\u001b[39;00m:\n\u001b[0;32m   1133\u001b[0m     \u001b[39mif\u001b[39;00m buffer \u001b[39mis\u001b[39;00m \u001b[39mnot\u001b[39;00m \u001b[39mNone\u001b[39;00m:\n\u001b[1;32m-> 1134\u001b[0m         \u001b[39mreturn\u001b[39;00m \u001b[39mself\u001b[39;49m\u001b[39m.\u001b[39;49m_sslobj\u001b[39m.\u001b[39;49mread(\u001b[39mlen\u001b[39;49m, buffer)\n\u001b[0;32m   1135\u001b[0m     \u001b[39melse\u001b[39;00m:\n\u001b[0;32m   1136\u001b[0m         \u001b[39mreturn\u001b[39;00m \u001b[39mself\u001b[39m\u001b[39m.\u001b[39m_sslobj\u001b[39m.\u001b[39mread(\u001b[39mlen\u001b[39m)\n",
      "\u001b[1;31mKeyboardInterrupt\u001b[0m: "
     ]
    }
   ],
   "source": [
    "import requests\n",
    "from bs4 import BeautifulSoup\n",
    "from tqdm import tqdm\n",
    " \n",
    "BulkDataStorageSystem_url = 'https://bulkdata.uspto.gov/'\n",
    "BulkDataStorageSystem = requests.get(BulkDataStorageSystem_url)\n",
    "BulkDataStorageSystem_soup = BeautifulSoup(BulkDataStorageSystem.text, 'html.parser')\n",
    "for link in BulkDataStorageSystem_soup.find_all('a'):\n",
    "    if str(link.get_text()).startswith(\"Patent Grant Full Text Data\"):\n",
    "        print(\"downloading patents from \"+str(link.get('href'))[-4:])\n",
    "        PatentGrantFullTextData=requests.get(link.get('href'))\n",
    "        PatentGrantFullTextData_soup = BeautifulSoup(PatentGrantFullTextData.text, 'html.parser')\n",
    "        #print(PatentGrantFullTextData_soup.contents)\n",
    "        for table in PatentGrantFullTextData_soup.find_all('table'):\n",
    "            for zip_downloader in tqdm(table.find_all('a'), total= len(table.find_all('a'))):\n",
    "                if str(zip_downloader.get_text()).startswith(\"ipg\"):\n",
    "                    print(str(link.get('href'))+\"/\"+str(zip_downloader.get('href')))\n",
    "\n",
    "    "
   ]
  }
 ],
 "metadata": {
  "kernelspec": {
   "display_name": ".venv",
   "language": "python",
   "name": "python3"
  },
  "language_info": {
   "codemirror_mode": {
    "name": "ipython",
    "version": 3
   },
   "file_extension": ".py",
   "mimetype": "text/x-python",
   "name": "python",
   "nbconvert_exporter": "python",
   "pygments_lexer": "ipython3",
   "version": "3.11.3"
  },
  "orig_nbformat": 4
 },
 "nbformat": 4,
 "nbformat_minor": 2
}
