{
 "cells": [
  {
   "cell_type": "code",
   "execution_count": 16,
   "metadata": {},
   "outputs": [],
   "source": [
    "import xml.etree.ElementTree as ET\n",
    "import pandas as pd\n",
    "from sentence_transformers import SentenceTransformer\n",
    "\n",
    "model = SentenceTransformer('sentence-transformers/all-mpnet-base-v2')\n",
    "def create_dataset(file_name):\n",
    "    df=pd.DataFrame(columns=[\"id\",\"date\",\"title\",\"abstract\",\"embedding\"])\n",
    "    with open(\"xmls/\"+file_name) as input:\n",
    "        n_line=0\n",
    "        temp_file = open('xmls/temp/temp.xml','w')\n",
    "        while True:\n",
    "            line = input.readline()\n",
    "            if not line: \n",
    "                break\n",
    "            if line.startswith('<?xml') and n_line!=0:\n",
    "                temp_file.close()\n",
    "                tree = ET.parse('xmls/temp/temp.xml')\n",
    "                us_patent_grant = tree.getroot()\n",
    "                title=None\n",
    "                ab=None\n",
    "                for publication_reference in us_patent_grant.iter(\"publication-reference\"):\n",
    "                    id=publication_reference.find(\"document-id\").find(\"doc-number\").text\n",
    "                    date=publication_reference.find(\"document-id\").find(\"date\").text\n",
    "                for us_bibliographic_data_grant in us_patent_grant.iter(\"us-bibliographic-data-grant\"):\n",
    "                    title=us_bibliographic_data_grant.find(\"invention-title\").text\n",
    "                for abstract in us_patent_grant.iter(\"abstract\"):\n",
    "                    ab=\"\".join(abstract.itertext())\n",
    "                if ab!=None :\n",
    "                    emb=model.encode(ab)\n",
    "                    df.loc[len(df)]=[id,date,title,ab,emb]\n",
    "                temp_file = open('xmls/temp/temp.xml','w')\n",
    "            temp_file.write(line)   \n",
    "            n_line+=1\n",
    "        df.to_csv(\"csv/\"+file_name[:-4]+\".csv\")"
   ]
  },
  {
   "cell_type": "code",
   "execution_count": null,
   "metadata": {},
   "outputs": [],
   "source": [
    "import requests\n",
    "from bs4 import BeautifulSoup\n",
    "from tqdm import tqdm\n",
    "import zipfile\n",
    "import os\n",
    " \n",
    "BulkDataStorageSystem_url = 'https://bulkdata.uspto.gov/'\n",
    "BulkDataStorageSystem = requests.get(BulkDataStorageSystem_url)\n",
    "BulkDataStorageSystem_soup = BeautifulSoup(BulkDataStorageSystem.text, 'html.parser')\n",
    "for link in BulkDataStorageSystem_soup.find_all('a'):\n",
    "    if str(link.get_text()).startswith(\"Patent Grant Full Text Data\"):\n",
    "        print(\"downloading patents from \"+str(link.get('href'))[-4:])\n",
    "        PatentGrantFullTextData=requests.get(link.get('href'))\n",
    "        PatentGrantFullTextData_soup = BeautifulSoup(PatentGrantFullTextData.text, 'html.parser')\n",
    "        for table in PatentGrantFullTextData_soup.find_all('table'):\n",
    "            for zip_downloader in tqdm(table.find_all('a'), total= len(table.find_all('a')), ):\n",
    "                if str(zip_downloader.get_text()).startswith(\"ipg\"):\n",
    "                    print(str(link.get('href'))+\"/\"+str(zip_downloader.get('href')))\n",
    "                    download=requests.get(str(link.get('href'))+\"/\"+str(zip_downloader.get('href')))\n",
    "                    with open(\"xmls/downloaded_zip/downloaded_file.zip\",\"wb\") as downloaded_file:\n",
    "                        downloaded_file.write(download.content)\n",
    "                        with zipfile.ZipFile(\"xmls/downloaded_zip/downloaded_file.zip\", 'r') as zip:\n",
    "                            zip.extract(zip.namelist()[0],\"xmls/\")\n",
    "                    create_dataset(zip.namelist()[0])\n",
    "                    os.remove(\"xmls/\"+zip.namelist()[0])"
   ]
  },
  {
   "cell_type": "code",
   "execution_count": 19,
   "metadata": {},
   "outputs": [],
   "source": [
    "create_dataset(\"ipg230103.xml\")"
   ]
  }
 ],
 "metadata": {
  "kernelspec": {
   "display_name": ".venv",
   "language": "python",
   "name": "python3"
  },
  "language_info": {
   "codemirror_mode": {
    "name": "ipython",
    "version": 3
   },
   "file_extension": ".py",
   "mimetype": "text/x-python",
   "name": "python",
   "nbconvert_exporter": "python",
   "pygments_lexer": "ipython3",
   "version": "3.10.10"
  },
  "orig_nbformat": 4
 },
 "nbformat": 4,
 "nbformat_minor": 2
}
