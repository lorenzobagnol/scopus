{
 "cells": [
  {
   "cell_type": "code",
   "execution_count": 16,
   "metadata": {},
   "outputs": [],
   "source": [
    "import xml.etree.ElementTree as ET\n",
    "import pandas as pd\n",
    "from sentence_transformers import SentenceTransformer\n",
    "\n",
    "model = SentenceTransformer('sentence-transformers/all-mpnet-base-v2')\n",
    "\n",
    "df=pd.DataFrame(columns=[\"id\",\"date\",\"title\",\"abstract\",\"embedding\"])\n",
    "with open(\"xmls/temp/temp.xml\") as input:\n",
    "    n_line=0\n",
    "    temp_file = open('xmls/temp/temp.xml','w')\n",
    "    while True:\n",
    "        line = input.readline()\n",
    "        if not line: \n",
    "            break\n",
    "        if line.startswith('<?xml') and n_line!=0:\n",
    "            temp_file.close()\n",
    "            tree = ET.parse('xmls/temp/temp.xml')\n",
    "            us_patent_grant = tree.getroot()\n",
    "            title=None\n",
    "            ab=None\n",
    "            for publication_reference in us_patent_grant.iter(\"publication-reference\"):\n",
    "                id=publication_reference.find(\"document-id\").find(\"doc-number\").text\n",
    "                date=publication_reference.find(\"document-id\").find(\"date\").text\n",
    "            for us_bibliographic_data_grant in us_patent_grant.iter(\"us-bibliographic-data-grant\"):\n",
    "                title=us_bibliographic_data_grant.find(\"invention-title\").text\n",
    "            for abstract in us_patent_grant.iter(\"abstract\"):\n",
    "                ab=\"\".join(abstract.itertext())\n",
    "            if ab!=None :\n",
    "                emb=model.encode(ab)\n",
    "                df.loc[len(df)]=[id,date,title,ab,emb]\n",
    "            temp_file = open('xmls/temp/temp.xml','w')\n",
    "        temp_file.write(line)   \n",
    "        n_line+=1\n",
    "    df.to_csv(\"xmls/temp/temp.csv\")"
   ]
  },
  {
   "cell_type": "code",
   "execution_count": 19,
   "metadata": {},
   "outputs": [],
   "source": [
    "create_dataset(\"ipg230103.xml\")"
   ]
  }
 ],
 "metadata": {
  "kernelspec": {
   "display_name": ".venv",
   "language": "python",
   "name": "python3"
  },
  "language_info": {
   "codemirror_mode": {
    "name": "ipython",
    "version": 3
   },
   "file_extension": ".py",
   "mimetype": "text/x-python",
   "name": "python",
   "nbconvert_exporter": "python",
   "pygments_lexer": "ipython3",
   "version": "3.10.10"
  },
  "orig_nbformat": 4
 },
 "nbformat": 4,
 "nbformat_minor": 2
}
