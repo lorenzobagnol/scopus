{
 "cells": [
  {
   "cell_type": "code",
   "execution_count": null,
   "metadata": {},
   "outputs": [],
   "source": [
    "import xml.etree.ElementTree as ET\n",
    "\n",
    "def create_dataset(origin):\n",
    "    with open(origin) as input:\n",
    "        n_line=0\n",
    "        temp_file = open('xmls/temp/temp.xml','w')\n",
    "        while True:\n",
    "            line = input.readline()\n",
    "            if not line: \n",
    "                break\n",
    "            if line.startswith('<?xml') and n_line!=0:\n",
    "                temp_file.close()\n",
    "                tree = ET.parse('xmls/temp/temp.xml')\n",
    "                us_patent_grant = tree.getroot()\n",
    "                for publication_reference in us_patent_grant.iter(\"publication-reference\"):\n",
    "                    print(\"patent number: \"+publication_reference.find(\"document-id\").find(\"doc-number\").text)\n",
    "                for us_bibliographic_data_grant in us_patent_grant.iter(\"us-bibliographic-data-grant\"):\n",
    "                    title=us_bibliographic_data_grant.find(\"invention-title\").text\n",
    "                    if title: print(\"title: \"+title)\n",
    "                for abstract in us_patent_grant.iter(\"abstract\"):\n",
    "                    print(\"abstract: \"+abstract.find(\"p\").text)\n",
    "                temp_file = open('xmls/temp/temp.xml','w')\n",
    "            temp_file.write(line)   \n",
    "            n_line+=1"
   ]
  },
  {
   "cell_type": "code",
   "execution_count": 47,
   "metadata": {},
   "outputs": [
    {
     "name": "stdout",
     "output_type": "stream",
     "text": [
      "downloading patents from 2023\n"
     ]
    },
    {
     "name": "stderr",
     "output_type": "stream",
     "text": [
      "0it [00:00, ?it/s]\n",
      "  0%|          | 0/21 [00:00<?, ?it/s]"
     ]
    },
    {
     "name": "stdout",
     "output_type": "stream",
     "text": [
      "https://bulkdata.uspto.gov/data/patent/grant/redbook/fulltext/2023/ipg230103.zip\n"
     ]
    },
    {
     "name": "stderr",
     "output_type": "stream",
     "text": [
      "  0%|          | 0/21 [03:30<?, ?it/s]\n"
     ]
    },
    {
     "ename": "NameError",
     "evalue": "name 'create_dataset' is not defined",
     "output_type": "error",
     "traceback": [
      "\u001b[1;31m---------------------------------------------------------------------------\u001b[0m",
      "\u001b[1;31mNameError\u001b[0m                                 Traceback (most recent call last)",
      "Cell \u001b[1;32mIn[47], line 24\u001b[0m\n\u001b[0;32m     22\u001b[0m     \u001b[39mwith\u001b[39;00m zipfile\u001b[39m.\u001b[39mZipFile(\u001b[39m\"\u001b[39m\u001b[39m./downloaded_file.zip\u001b[39m\u001b[39m\"\u001b[39m, \u001b[39m'\u001b[39m\u001b[39mr\u001b[39m\u001b[39m'\u001b[39m) \u001b[39mas\u001b[39;00m \u001b[39mzip\u001b[39m:\n\u001b[0;32m     23\u001b[0m         \u001b[39mzip\u001b[39m\u001b[39m.\u001b[39mextract(\u001b[39mzip\u001b[39m\u001b[39m.\u001b[39mnamelist()[\u001b[39m0\u001b[39m])\n\u001b[1;32m---> 24\u001b[0m create_dataset(\u001b[39mzip\u001b[39m\u001b[39m.\u001b[39mnamelist()[\u001b[39m0\u001b[39m])\n",
      "\u001b[1;31mNameError\u001b[0m: name 'create_dataset' is not defined"
     ]
    }
   ],
   "source": [
    "import requests\n",
    "from bs4 import BeautifulSoup\n",
    "from tqdm import tqdm\n",
    "import zipfile\n",
    "import os\n",
    " \n",
    "BulkDataStorageSystem_url = 'https://bulkdata.uspto.gov/'\n",
    "BulkDataStorageSystem = requests.get(BulkDataStorageSystem_url)\n",
    "BulkDataStorageSystem_soup = BeautifulSoup(BulkDataStorageSystem.text, 'html.parser')\n",
    "for link in BulkDataStorageSystem_soup.find_all('a'):\n",
    "    if str(link.get_text()).startswith(\"Patent Grant Full Text Data\"):\n",
    "        print(\"downloading patents from \"+str(link.get('href'))[-4:])\n",
    "        PatentGrantFullTextData=requests.get(link.get('href'))\n",
    "        PatentGrantFullTextData_soup = BeautifulSoup(PatentGrantFullTextData.text, 'html.parser')\n",
    "        for table in PatentGrantFullTextData_soup.find_all('table'):\n",
    "            for zip_downloader in tqdm(table.find_all('a'), total= len(table.find_all('a')), ):\n",
    "                if str(zip_downloader.get_text()).startswith(\"ipg\"):\n",
    "                    print(str(link.get('href'))+\"/\"+str(zip_downloader.get('href')))\n",
    "                    download=requests.get(str(link.get('href'))+\"/\"+str(zip_downloader.get('href')))\n",
    "                    with open(\"./downloaded_file.zip\",\"wb\") as downloaded_file:\n",
    "                        downloaded_file.write(download.content)\n",
    "                        with zipfile.ZipFile(\"./downloaded_file.zip\", 'r') as zip:\n",
    "                            zip.extract(zip.namelist()[0])\n",
    "                    create_dataset(zip.namelist()[0])\n",
    "                    os.remove(zip.namelist()[0])"
   ]
  }
 ],
 "metadata": {
  "kernelspec": {
   "display_name": ".venv",
   "language": "python",
   "name": "python3"
  },
  "language_info": {
   "codemirror_mode": {
    "name": "ipython",
    "version": 3
   },
   "file_extension": ".py",
   "mimetype": "text/x-python",
   "name": "python",
   "nbconvert_exporter": "python",
   "pygments_lexer": "ipython3",
   "version": "3.11.3"
  },
  "orig_nbformat": 4
 },
 "nbformat": 4,
 "nbformat_minor": 2
}
