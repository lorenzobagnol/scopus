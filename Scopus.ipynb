{
 "cells": [
  {
   "cell_type": "code",
   "execution_count": 1,
   "metadata": {},
   "outputs": [
    {
     "name": "stderr",
     "output_type": "stream",
     "text": [
      "/home/bagnol/miniconda3/envs/Scopus/lib/python3.10/site-packages/tqdm/auto.py:21: TqdmWarning: IProgress not found. Please update jupyter and ipywidgets. See https://ipywidgets.readthedocs.io/en/stable/user_install.html\n",
      "  from .autonotebook import tqdm as notebook_tqdm\n"
     ]
    }
   ],
   "source": [
    "import os\n",
    "import pandas as pd\n",
    "from pybliometrics.scopus import ScopusSearch\n",
    "from sentence_transformers import SentenceTransformer\n",
    "from keybert import KeyBERT\n",
    "from tqdm import tqdm\n",
    "import numpy as np\n",
    "from sklearn.metrics.pairwise import cosine_similarity\n",
    "from flask import Flask, request, render_template\n",
    "from sklearn.metrics import pairwise_distances\n",
    "from itertools import chain, combinations\n"
   ]
  },
  {
   "cell_type": "code",
   "execution_count": 34,
   "metadata": {},
   "outputs": [],
   "source": [
    "df=pd.read_csv(\"SearchResults/patent_search_results.csv\", index_col=False)\n",
    "df=df.loc[[int(eval(appl_ref)[\"application_date\"])<20200130 for appl_ref in df[\"application_reference\"]]]\n",
    "df=df.reset_index(drop=True)"
   ]
  },
  {
   "cell_type": "code",
   "execution_count": 36,
   "metadata": {},
   "outputs": [
    {
     "data": {
      "text/html": [
       "<div>\n",
       "<style scoped>\n",
       "    .dataframe tbody tr th:only-of-type {\n",
       "        vertical-align: middle;\n",
       "    }\n",
       "\n",
       "    .dataframe tbody tr th {\n",
       "        vertical-align: top;\n",
       "    }\n",
       "\n",
       "    .dataframe thead th {\n",
       "        text-align: right;\n",
       "    }\n",
       "</style>\n",
       "<table border=\"1\" class=\"dataframe\">\n",
       "  <thead>\n",
       "    <tr style=\"text-align: right;\">\n",
       "      <th></th>\n",
       "      <th>title</th>\n",
       "      <th>abstract</th>\n",
       "      <th>publication_id</th>\n",
       "      <th>publication_date</th>\n",
       "      <th>application_reference</th>\n",
       "      <th>inventors</th>\n",
       "      <th>distance</th>\n",
       "    </tr>\n",
       "  </thead>\n",
       "  <tbody>\n",
       "    <tr>\n",
       "      <th>206</th>\n",
       "      <td>Data processing device for chromatograph and d...</td>\n",
       "      <td>\\nThere are provided a data processing device ...</td>\n",
       "      <td>10309940</td>\n",
       "      <td>20190604.0</td>\n",
       "      <td>{'application_id': '14902638', 'application_da...</td>\n",
       "      <td>['Kamata', 'Yanagisawa', 'Mito', 'Mishima']</td>\n",
       "      <td>0.48512</td>\n",
       "    </tr>\n",
       "  </tbody>\n",
       "</table>\n",
       "</div>"
      ],
      "text/plain": [
       "                                                 title  \\\n",
       "206  Data processing device for chromatograph and d...   \n",
       "\n",
       "                                              abstract publication_id  \\\n",
       "206  \\nThere are provided a data processing device ...       10309940   \n",
       "\n",
       "     publication_date                              application_reference  \\\n",
       "206        20190604.0  {'application_id': '14902638', 'application_da...   \n",
       "\n",
       "                                       inventors  distance  \n",
       "206  ['Kamata', 'Yanagisawa', 'Mito', 'Mishima']   0.48512  "
      ]
     },
     "execution_count": 36,
     "metadata": {},
     "output_type": "execute_result"
    }
   ],
   "source": [
    "a=df.loc[[\"Data processing device for chromatograph and data processing\".lower() in str(tit).lower() for tit in df[\"title\"]]]\n",
    "a"
   ]
  },
  {
   "cell_type": "code",
   "execution_count": 51,
   "metadata": {},
   "outputs": [
    {
     "name": "stdout",
     "output_type": "stream",
     "text": [
      "Data processing device for chromatograph and data processing method for chromatograph\n",
      "abstract: \n",
      "There are provided a data processing device for chromatograph and a data processing method for chromatograph which allow a peak to be desirably checked. A peak (correction target peak (P1)) whose intensity exceeds a predetermined threshold in a chromatogram at a target wavelength (λ1) is corrected based on correction reference values (height (H1) and area (A1) of a peak (P11)) and a sensitivity coefficient (R=I1/I2), and the chromatogram after correction is displayed or printed. Therefore, even if the correction target peak (P1) is saturated, display or printing may be performed in a state where correction has been performed so that the chromatogram at the peak (P1) is not cut off in the middle. Accordingly, at the time of display or printing of the chromatogram, a fine peak may be prevented from becoming too small, and also the correction target peak (P1) may be prevented from being cut off in the middle, and thus the peaks may be desirably checked.\n",
      "\n"
     ]
    }
   ],
   "source": [
    "a=a.reset_index(drop=True)\n",
    "print(a[\"title\"][0])\n",
    "print(\"abstract: \"+a[\"abstract\"][0])"
   ]
  },
  {
   "cell_type": "code",
   "execution_count": 37,
   "metadata": {},
   "outputs": [
    {
     "name": "stdout",
     "output_type": "stream",
     "text": [
      "Systems and methods to process data in chromatographic systems\n",
      "abstract: \n",
      "A system and method for processing data in chromatographic systems is described. In an implementation, the system and method includes processing data generated by a chromatographic system to generate processed data, analyzing the processed data, and preparing and providing results based on the processed data.\n",
      "\n",
      "Method and system for liquid chromatography data analysis\n",
      "abstract: \n",
      "One embodiment of the invention is directed to a method of analyzing liquid chromatography data. The method comprises collecting, by a data processing system, first volume fractions data from a first liquid chromatography column for a first absorbance wavelength of light λ1 from a first run of a liquid chromatography process on a mixture, wherein the first liquid chromatography column screens for a first characteristic of the mixture. The method further comprising, normalizing a first relative peak area for a first volume of a component of interest in the mixture for the first absorbance wavelength λ1 to obtain a first set of purity quotient values PQ1, collecting second volume fractions data from a second liquid chromatography column for a second absorbance wavelength of light λ2 from a second run of a liquid chromatography process on the mixture, wherein the second liquid chromatography column screens for a second characteristic of the mixture, normalizing a second relative peak area for the second volume of the component of interest in the mixture for the second absorbance wavelength λ2 to obtain a second set of purity quotient values PQ2, storing the values PQ1 and PQ2 in a memory, calculating a difference between values PQ1 and PQ2 for each volume fraction location of the first and second volumes to obtain a first set of purity quotient difference (“PQD”) values, displaying in a graphical display the first set of PQD values, and determining which volume fractions to pool together based on the display of the first set of PQD values.\n",
      "\n",
      "Fluoropolymer pneumatically/hydraulically actuated liquid chromatographic system for use with harsh reagents\n",
      "abstract: \n",
      "The invention provides a high-performance liquid chromatography system, said system is controlled in temperature by running a fluid in sleeves that surround the different parts of the system. All parts in contact with the fluid are made in fluoropolymer, carbon-filled fluoropolymer, or carbon-fiber fluoropolymer. The system comprises at least one reagent reservoir; at least one mixing chamber, wherein the contents of the at least one reagent reservoir are combined; at least one pump that transfers the contents of the at least one reservoir to the mixing chamber; and at least one modular elution column, wherein the at least one modular elution column contains a temperature control means; a sample injection system connected to an injection loop or 3-way valve to inject the sample solutions in the modular elution columns, at least one manifold or X-Y moving stage to distribute the eluted volumes in different receptacles; at least one return line to automatically reinject selected elution fractions at the top of the column; wherein all moving components of the said system are fluid actuated.\n",
      "\n"
     ]
    },
    {
     "data": {
      "text/plain": [
       "0          0.351907\n",
       "1          0.352834\n",
       "2          0.360038\n",
       "3          0.376529\n",
       "4          0.376714\n",
       "             ...   \n",
       "1131113    1.157924\n",
       "1131114    1.158272\n",
       "1131115    1.163922\n",
       "1131116    1.166460\n",
       "1131117    1.178338\n",
       "Name: distance, Length: 1131118, dtype: float64"
      ]
     },
     "execution_count": 37,
     "metadata": {},
     "output_type": "execute_result"
    }
   ],
   "source": [
    "print(df[\"title\"][0])\n",
    "print(\"abstract: \"+df[\"abstract\"][0])\n",
    "print(df[\"title\"][1])\n",
    "print(\"abstract: \"+df[\"abstract\"][1])\n",
    "print(df[\"title\"][2])\n",
    "print(\"abstract: \"+df[\"abstract\"][2])\n",
    "df[\"distance\"]"
   ]
  }
 ],
 "metadata": {
  "kernelspec": {
   "display_name": "Scopus",
   "language": "python",
   "name": "python3"
  },
  "language_info": {
   "codemirror_mode": {
    "name": "ipython",
    "version": 3
   },
   "file_extension": ".py",
   "mimetype": "text/x-python",
   "name": "python",
   "nbconvert_exporter": "python",
   "pygments_lexer": "ipython3",
   "version": "3.10.10"
  },
  "orig_nbformat": 4,
  "vscode": {
   "interpreter": {
    "hash": "4eb1e40830af9022a82cf5a1159f19f1c32df6964a7e935055b2d6a1947e8a68"
   }
  }
 },
 "nbformat": 4,
 "nbformat_minor": 2
}
