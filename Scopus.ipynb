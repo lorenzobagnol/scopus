{
 "cells": [
  {
   "cell_type": "code",
   "execution_count": 65,
   "metadata": {},
   "outputs": [
    {
     "data": {
      "text/plain": [
       "41372"
      ]
     },
     "execution_count": 65,
     "metadata": {},
     "output_type": "execute_result"
    }
   ],
   "source": [
    "import pandas as pd\n",
    "\n",
    "df=pd.read_csv(\"./SearchResults/search_results\", sep='\\t')\n",
    "len(df)"
   ]
  },
  {
   "cell_type": "code",
   "execution_count": 66,
   "metadata": {},
   "outputs": [
    {
     "data": {
      "text/html": [
       "<div>\n",
       "<style scoped>\n",
       "    .dataframe tbody tr th:only-of-type {\n",
       "        vertical-align: middle;\n",
       "    }\n",
       "\n",
       "    .dataframe tbody tr th {\n",
       "        vertical-align: top;\n",
       "    }\n",
       "\n",
       "    .dataframe thead th {\n",
       "        text-align: right;\n",
       "    }\n",
       "</style>\n",
       "<table border=\"1\" class=\"dataframe\">\n",
       "  <thead>\n",
       "    <tr style=\"text-align: right;\">\n",
       "      <th></th>\n",
       "      <th>Unnamed: 0.1</th>\n",
       "      <th>Unnamed: 0</th>\n",
       "      <th>eid</th>\n",
       "      <th>pubmed_id</th>\n",
       "      <th>title</th>\n",
       "      <th>author_names</th>\n",
       "      <th>author_ids</th>\n",
       "      <th>description</th>\n",
       "      <th>authkeywords</th>\n",
       "      <th>cosine_similarity</th>\n",
       "    </tr>\n",
       "  </thead>\n",
       "  <tbody>\n",
       "    <tr>\n",
       "      <th>15</th>\n",
       "      <td>15</td>\n",
       "      <td>4690</td>\n",
       "      <td>2-s2.0-84922042296</td>\n",
       "      <td>NaN</td>\n",
       "      <td>On the synthesis of quantum Hall array resista...</td>\n",
       "      <td>Ortolano, Massimo;Abrate, Marco;Callegaro, Luca</td>\n",
       "      <td>6507642287;7004932542;55876974900</td>\n",
       "      <td>Quantum Hall effect (QHE) is the basis of mode...</td>\n",
       "      <td>Quantum Hall array resistance standard | Quant...</td>\n",
       "      <td>0.560016</td>\n",
       "    </tr>\n",
       "    <tr>\n",
       "      <th>16</th>\n",
       "      <td>16</td>\n",
       "      <td>3105</td>\n",
       "      <td>2-s2.0-85045764421</td>\n",
       "      <td>NaN</td>\n",
       "      <td>Error modelling of quantum Hall array resistan...</td>\n",
       "      <td>Marzano, Martina;Oe, Takehiko;Ortolano, Massim...</td>\n",
       "      <td>57201008111;24829635000;6507642287;55876974900...</td>\n",
       "      <td>Quantum Hall array resistance standards (QHARS...</td>\n",
       "      <td>electrical metrology | quantum Hall arrays | q...</td>\n",
       "      <td>0.559892</td>\n",
       "    </tr>\n",
       "    <tr>\n",
       "      <th>1619</th>\n",
       "      <td>1619</td>\n",
       "      <td>11990</td>\n",
       "      <td>2-s2.0-0029733989</td>\n",
       "      <td>NaN</td>\n",
       "      <td>Gate-controlled current distribution on double...</td>\n",
       "      <td>Nachtwei, G.;Breitlow, C.;Bartholomäus, L.;Blö...</td>\n",
       "      <td>7004116224;6602574260;6506595930;6602997759;57...</td>\n",
       "      <td>We investigated the local potential distributi...</td>\n",
       "      <td>NaN</td>\n",
       "      <td>0.363850</td>\n",
       "    </tr>\n",
       "  </tbody>\n",
       "</table>\n",
       "</div>"
      ],
      "text/plain": [
       "      Unnamed: 0.1  Unnamed: 0                 eid  pubmed_id  \\\n",
       "15              15        4690  2-s2.0-84922042296        NaN   \n",
       "16              16        3105  2-s2.0-85045764421        NaN   \n",
       "1619          1619       11990   2-s2.0-0029733989        NaN   \n",
       "\n",
       "                                                  title  \\\n",
       "15    On the synthesis of quantum Hall array resista...   \n",
       "16    Error modelling of quantum Hall array resistan...   \n",
       "1619  Gate-controlled current distribution on double...   \n",
       "\n",
       "                                           author_names  \\\n",
       "15      Ortolano, Massimo;Abrate, Marco;Callegaro, Luca   \n",
       "16    Marzano, Martina;Oe, Takehiko;Ortolano, Massim...   \n",
       "1619  Nachtwei, G.;Breitlow, C.;Bartholomäus, L.;Blö...   \n",
       "\n",
       "                                             author_ids  \\\n",
       "15                    6507642287;7004932542;55876974900   \n",
       "16    57201008111;24829635000;6507642287;55876974900...   \n",
       "1619  7004116224;6602574260;6506595930;6602997759;57...   \n",
       "\n",
       "                                            description  \\\n",
       "15    Quantum Hall effect (QHE) is the basis of mode...   \n",
       "16    Quantum Hall array resistance standards (QHARS...   \n",
       "1619  We investigated the local potential distributi...   \n",
       "\n",
       "                                           authkeywords  cosine_similarity  \n",
       "15    Quantum Hall array resistance standard | Quant...           0.560016  \n",
       "16    electrical metrology | quantum Hall arrays | q...           0.559892  \n",
       "1619                                                NaN           0.363850  "
      ]
     },
     "execution_count": 66,
     "metadata": {},
     "output_type": "execute_result"
    }
   ],
   "source": [
    "lista=['2-s2.0-85045764421','2-s2.0-84922042296','2-s2.0-0029733989','2-s2.0-85054779964']\n",
    "df.query(\"eid in @lista\")"
   ]
  }
 ],
 "metadata": {
  "kernelspec": {
   "display_name": "Scopus",
   "language": "python",
   "name": "python3"
  },
  "language_info": {
   "codemirror_mode": {
    "name": "ipython",
    "version": 3
   },
   "file_extension": ".py",
   "mimetype": "text/x-python",
   "name": "python",
   "nbconvert_exporter": "python",
   "pygments_lexer": "ipython3",
   "version": "3.10.10"
  },
  "orig_nbformat": 4,
  "vscode": {
   "interpreter": {
    "hash": "4eb1e40830af9022a82cf5a1159f19f1c32df6964a7e935055b2d6a1947e8a68"
   }
  }
 },
 "nbformat": 4,
 "nbformat_minor": 2
}
