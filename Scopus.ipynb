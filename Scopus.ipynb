{
 "cells": [
  {
   "cell_type": "code",
   "execution_count": null,
   "metadata": {},
   "outputs": [],
   "source": [
    "import os\n",
    "import pandas as pd\n",
    "from pybliometrics.scopus import ScopusSearch\n",
    "from sentence_transformers import SentenceTransformer\n",
    "from keybert import KeyBERT\n",
    "from tqdm import tqdm\n",
    "import numpy as np\n",
    "from sklearn.metrics.pairwise import cosine_similarity\n",
    "from flask import Flask, request, render_template\n",
    "from sklearn.metrics import pairwise_distances\n",
    "from itertools import chain, combinations\n",
    "\n",
    "abstract_brevetto=\"\"\"An integrated circuit (1) operating in the quantum Hall effect regime to obtain a predetermined resistance standard (R*), in particular to perform calibration of standard electrical resistors. The integrated circuit (1) includes a plurality of field-effect transistors (20), a first section (10a) comprising at least a first and a second field-effect transistors (20a,20'a) connected in series and at least a second section (10b) comprising at least a first and a second field-effect transistors (20b,20'b) connected in series. The integrated circuit (1) comprises, in addition, a plurality of balancing ohmic contacts (5), at at least one of which (5in) a predetermined I-channel current is injected, which is, then, extracted at another ohmic contact (5out). The first and at least the second sections (10a,10b) are connected to each other in parallel, such that at a predetermined ohmic contact (5*) the predetermined standard of resistance (R*) is obtained\"\"\"\n"
   ]
  }
 ],
 "metadata": {
  "kernelspec": {
   "display_name": "Scopus",
   "language": "python",
   "name": "python3"
  },
  "language_info": {
   "codemirror_mode": {
    "name": "ipython",
    "version": 3
   },
   "file_extension": ".py",
   "mimetype": "text/x-python",
   "name": "python",
   "nbconvert_exporter": "python",
   "pygments_lexer": "ipython3",
   "version": "3.10.10"
  },
  "orig_nbformat": 4,
  "vscode": {
   "interpreter": {
    "hash": "4eb1e40830af9022a82cf5a1159f19f1c32df6964a7e935055b2d6a1947e8a68"
   }
  }
 },
 "nbformat": 4,
 "nbformat_minor": 2
}
